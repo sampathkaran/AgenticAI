{
  "nbformat": 4,
  "nbformat_minor": 0,
  "metadata": {
    "colab": {
      "provenance": [],
      "authorship_tag": "ABX9TyMOAHktXANOtwr6r35bqtdO",
      "include_colab_link": true
    },
    "kernelspec": {
      "name": "python3",
      "display_name": "Python 3"
    },
    "language_info": {
      "name": "python"
    }
  },
  "cells": [
    {
      "cell_type": "markdown",
      "metadata": {
        "id": "view-in-github",
        "colab_type": "text"
      },
      "source": [
        "<a href=\"https://colab.research.google.com/github/sampathkaran/AgenticAI/blob/main/python-essentials.ipynb\" target=\"_parent\"><img src=\"https://colab.research.google.com/assets/colab-badge.svg\" alt=\"Open In Colab\"/></a>"
      ]
    },
    {
      "cell_type": "code",
      "execution_count": null,
      "metadata": {
        "colab": {
          "base_uri": "https://localhost:8080/"
        },
        "id": "rV1_UwYb1Uqc",
        "outputId": "6a54015d-e8bc-42ce-c86c-f33a10f727a3"
      },
      "outputs": [
        {
          "output_type": "stream",
          "name": "stdout",
          "text": [
            "10\n"
          ]
        }
      ],
      "source": [
        "x =10\n",
        "print(x)"
      ]
    },
    {
      "cell_type": "code",
      "source": [
        "X=100\n",
        "print(X)"
      ],
      "metadata": {
        "colab": {
          "base_uri": "https://localhost:8080/"
        },
        "id": "Y0SMubFJ1Ywr",
        "outputId": "51ed72bd-e3f6-4884-d8a0-d9049b36793a"
      },
      "execution_count": null,
      "outputs": [
        {
          "output_type": "stream",
          "name": "stdout",
          "text": [
            "100\n"
          ]
        }
      ]
    },
    {
      "cell_type": "code",
      "source": [
        "print(x)"
      ],
      "metadata": {
        "colab": {
          "base_uri": "https://localhost:8080/"
        },
        "id": "pZoriVOs1eqb",
        "outputId": "8bf76b0a-0e6a-4d9c-f428-2ba9fa854e06"
      },
      "execution_count": null,
      "outputs": [
        {
          "output_type": "stream",
          "name": "stdout",
          "text": [
            "10\n"
          ]
        }
      ]
    },
    {
      "cell_type": "code",
      "source": [
        "_name = \"john\""
      ],
      "metadata": {
        "id": "RuISxMw21gvc"
      },
      "execution_count": null,
      "outputs": []
    },
    {
      "cell_type": "code",
      "source": [
        "print (_name)"
      ],
      "metadata": {
        "colab": {
          "base_uri": "https://localhost:8080/"
        },
        "id": "tEIFD5Tq1ymR",
        "outputId": "0d0489d6-2934-4eb0-d64a-dfd81eb4c7ba"
      },
      "execution_count": null,
      "outputs": [
        {
          "output_type": "stream",
          "name": "stdout",
          "text": [
            "john\n"
          ]
        }
      ]
    },
    {
      "cell_type": "code",
      "source": [
        "x =100\n",
        "type(x)"
      ],
      "metadata": {
        "colab": {
          "base_uri": "https://localhost:8080/"
        },
        "id": "ji4hKsqh10RY",
        "outputId": "c544da25-e513-4126-e1e4-2ed36d5cd666"
      },
      "execution_count": null,
      "outputs": [
        {
          "output_type": "execute_result",
          "data": {
            "text/plain": [
              "int"
            ]
          },
          "metadata": {},
          "execution_count": 7
        }
      ]
    },
    {
      "cell_type": "code",
      "source": [
        "x= -7.6\n",
        "type(x)"
      ],
      "metadata": {
        "colab": {
          "base_uri": "https://localhost:8080/"
        },
        "id": "-cJIb9qv5-uO",
        "outputId": "3f28284c-e868-4ee4-ab92-6abf35d2de23"
      },
      "execution_count": null,
      "outputs": [
        {
          "output_type": "execute_result",
          "data": {
            "text/plain": [
              "float"
            ]
          },
          "metadata": {},
          "execution_count": 8
        }
      ]
    },
    {
      "cell_type": "code",
      "source": [
        "x = [1, 5.6, \"hello\"]\n",
        "x"
      ],
      "metadata": {
        "colab": {
          "base_uri": "https://localhost:8080/"
        },
        "id": "bzdnMKye6Gtv",
        "outputId": "f337ff78-9390-4e84-e220-6c66c7e66a56"
      },
      "execution_count": null,
      "outputs": [
        {
          "output_type": "execute_result",
          "data": {
            "text/plain": [
              "[1, 5.6, 'hello']"
            ]
          },
          "metadata": {},
          "execution_count": 9
        }
      ]
    },
    {
      "cell_type": "code",
      "source": [
        "type(x)"
      ],
      "metadata": {
        "colab": {
          "base_uri": "https://localhost:8080/"
        },
        "id": "lOQz0noU-03e",
        "outputId": "be9cb627-b920-4bbd-9279-681286e063b0"
      },
      "execution_count": null,
      "outputs": [
        {
          "output_type": "execute_result",
          "data": {
            "text/plain": [
              "list"
            ]
          },
          "metadata": {},
          "execution_count": 10
        }
      ]
    },
    {
      "cell_type": "code",
      "source": [
        "x[2] = \"world\""
      ],
      "metadata": {
        "id": "jpkOeBwe_Lzq"
      },
      "execution_count": null,
      "outputs": []
    },
    {
      "cell_type": "code",
      "source": [
        "x"
      ],
      "metadata": {
        "colab": {
          "base_uri": "https://localhost:8080/"
        },
        "id": "Zlpjz5GV_Ua4",
        "outputId": "2b81038f-3dc0-4450-ba7b-7d054ea0d825"
      },
      "execution_count": null,
      "outputs": [
        {
          "output_type": "execute_result",
          "data": {
            "text/plain": [
              "[1, 5.6, 'world']"
            ]
          },
          "metadata": {},
          "execution_count": 15
        }
      ]
    },
    {
      "cell_type": "code",
      "source": [
        "y = (3, 6.7, \"hello\")"
      ],
      "metadata": {
        "id": "vZMLPGMg-2h_"
      },
      "execution_count": null,
      "outputs": []
    },
    {
      "cell_type": "code",
      "source": [
        "type(y)"
      ],
      "metadata": {
        "colab": {
          "base_uri": "https://localhost:8080/"
        },
        "id": "cSdIH35d_H8x",
        "outputId": "1894ae06-0bd8-444a-c4d8-e1a3145fb33c"
      },
      "execution_count": null,
      "outputs": [
        {
          "output_type": "execute_result",
          "data": {
            "text/plain": [
              "tuple"
            ]
          },
          "metadata": {},
          "execution_count": 12
        }
      ]
    },
    {
      "cell_type": "code",
      "source": [],
      "metadata": {
        "id": "5kqCgzqj_JmU"
      },
      "execution_count": null,
      "outputs": []
    },
    {
      "cell_type": "markdown",
      "source": [
        "# Assignment\n",
        "- Create a calculate app\n",
        "- Get the input from user\n",
        "- perform the calculation"
      ],
      "metadata": {
        "id": "1sUjHK5nBKtl"
      }
    },
    {
      "cell_type": "code",
      "source": [
        "# get input from user\n",
        "x = input(\"Enter the value:\")\n",
        "x"
      ],
      "metadata": {
        "colab": {
          "base_uri": "https://localhost:8080/",
          "height": 59
        },
        "id": "oUxyqkppBTvR",
        "outputId": "751d64ad-1024-4481-ac42-0eedc6e67206"
      },
      "execution_count": null,
      "outputs": [
        {
          "name": "stdout",
          "output_type": "stream",
          "text": [
            "Enter the value:2\n"
          ]
        },
        {
          "output_type": "execute_result",
          "data": {
            "text/plain": [
              "'2'"
            ],
            "application/vnd.google.colaboratory.intrinsic+json": {
              "type": "string"
            }
          },
          "metadata": {},
          "execution_count": 16
        }
      ]
    },
    {
      "cell_type": "code",
      "source": [
        "x"
      ],
      "metadata": {
        "colab": {
          "base_uri": "https://localhost:8080/",
          "height": 38
        },
        "id": "Fpzbt5yZBk2u",
        "outputId": "9566b31a-17e3-4b19-b3ce-74c6dd387473"
      },
      "execution_count": null,
      "outputs": [
        {
          "output_type": "execute_result",
          "data": {
            "text/plain": [
              "'2'"
            ],
            "application/vnd.google.colaboratory.intrinsic+json": {
              "type": "string"
            }
          },
          "metadata": {},
          "execution_count": 17
        }
      ]
    },
    {
      "cell_type": "code",
      "source": [
        "num1 = input(\"Enter the value 1: \")\n",
        "num2 = input(\"Enter the value 2: \")\n",
        "result = num1 + num2"
      ],
      "metadata": {
        "colab": {
          "base_uri": "https://localhost:8080/"
        },
        "id": "-BUgq8iTBpcb",
        "outputId": "0dedbe10-6bb9-4e19-8879-87bc6d799003"
      },
      "execution_count": null,
      "outputs": [
        {
          "name": "stdout",
          "output_type": "stream",
          "text": [
            "Enter the value 1: 10\n",
            "Enter the value 2: 20\n"
          ]
        }
      ]
    },
    {
      "cell_type": "code",
      "source": [
        "result"
      ],
      "metadata": {
        "colab": {
          "base_uri": "https://localhost:8080/",
          "height": 38
        },
        "id": "GT-wV-zEB9nv",
        "outputId": "b12b60c4-420d-4174-ad2b-dfdbdf9f11ff"
      },
      "execution_count": null,
      "outputs": [
        {
          "output_type": "execute_result",
          "data": {
            "text/plain": [
              "'1020'"
            ],
            "application/vnd.google.colaboratory.intrinsic+json": {
              "type": "string"
            }
          },
          "metadata": {},
          "execution_count": 19
        }
      ]
    },
    {
      "cell_type": "code",
      "source": [
        "type(num1)"
      ],
      "metadata": {
        "colab": {
          "base_uri": "https://localhost:8080/"
        },
        "id": "66-C2-B5CCfO",
        "outputId": "ceae588c-4338-463d-bd4b-8399e8a74a26"
      },
      "execution_count": null,
      "outputs": [
        {
          "output_type": "execute_result",
          "data": {
            "text/plain": [
              "str"
            ]
          },
          "metadata": {},
          "execution_count": 20
        }
      ]
    },
    {
      "cell_type": "code",
      "source": [
        "type(num2)"
      ],
      "metadata": {
        "colab": {
          "base_uri": "https://localhost:8080/"
        },
        "id": "wgtTXKtkCGj9",
        "outputId": "d778165a-0da1-4c85-b135-453314207b2f"
      },
      "execution_count": null,
      "outputs": [
        {
          "output_type": "execute_result",
          "data": {
            "text/plain": [
              "str"
            ]
          },
          "metadata": {},
          "execution_count": 21
        }
      ]
    },
    {
      "cell_type": "code",
      "source": [
        "# Type Casting - Explicit Casting\n",
        "num1 = int(input(\"Enter the value 1: \"))\n",
        "num2 = int(input(\"Enter the value 2: \"))\n",
        "operation = int(input(\"\"\"Enter the number for operation to be performed:\n",
        "                   0 - Additon\n",
        "                   1 - Subtraction\n",
        "                   2 - Multipliation\n",
        "                   3 - Divsion\n",
        "                   \"\"\"))\n",
        "if operation == 0:\n",
        "  result = num1 + num2\n",
        "elif operation == 1:\n",
        "  result = num1 - num2\n",
        "elif operation == 2:\n",
        "  result = num1 * num2\n",
        "else:\n",
        "  result = num1 / num2\n",
        "print (result)"
      ],
      "metadata": {
        "colab": {
          "base_uri": "https://localhost:8080/"
        },
        "id": "S6T-YAHsCIbI",
        "outputId": "ab033f3b-6314-4a3f-9fde-121dda6c5386"
      },
      "execution_count": null,
      "outputs": [
        {
          "output_type": "stream",
          "name": "stdout",
          "text": [
            "Enter the value 1: 10\n",
            "Enter the value 2: 5\n",
            "Enter the number for operation to be performed:\n",
            "                   0 - Additon\n",
            "                   1 - Subtraction\n",
            "                   2 - Multipliation\n",
            "                   3 - Divsion\n",
            "                   3\n",
            "2.0\n"
          ]
        }
      ]
    },
    {
      "cell_type": "code",
      "source": [
        "not(True)"
      ],
      "metadata": {
        "colab": {
          "base_uri": "https://localhost:8080/"
        },
        "id": "WWHxZ0wVDcBT",
        "outputId": "3e46044b-5fb2-4d08-cd51-88be390fa81c"
      },
      "execution_count": null,
      "outputs": [
        {
          "output_type": "execute_result",
          "data": {
            "text/plain": [
              "False"
            ]
          },
          "metadata": {},
          "execution_count": 37
        }
      ]
    },
    {
      "cell_type": "code",
      "source": [
        "True and True"
      ],
      "metadata": {
        "colab": {
          "base_uri": "https://localhost:8080/"
        },
        "id": "4xbA9Q4iJtpB",
        "outputId": "1a3b6b28-e289-4d5c-8af0-2ca275b7a949"
      },
      "execution_count": null,
      "outputs": [
        {
          "output_type": "execute_result",
          "data": {
            "text/plain": [
              "True"
            ]
          },
          "metadata": {},
          "execution_count": 38
        }
      ]
    },
    {
      "cell_type": "code",
      "source": [
        "True and False"
      ],
      "metadata": {
        "colab": {
          "base_uri": "https://localhost:8080/"
        },
        "id": "zKE8ymStJwgX",
        "outputId": "3f755409-5b14-448f-f967-88e59b158cf6"
      },
      "execution_count": null,
      "outputs": [
        {
          "output_type": "execute_result",
          "data": {
            "text/plain": [
              "False"
            ]
          },
          "metadata": {},
          "execution_count": 39
        }
      ]
    },
    {
      "cell_type": "code",
      "source": [
        "False and False"
      ],
      "metadata": {
        "colab": {
          "base_uri": "https://localhost:8080/"
        },
        "id": "DL6xwfRTJyNd",
        "outputId": "53071e67-9945-4e59-d4bd-bb19ca09f2a9"
      },
      "execution_count": null,
      "outputs": [
        {
          "output_type": "execute_result",
          "data": {
            "text/plain": [
              "False"
            ]
          },
          "metadata": {},
          "execution_count": 40
        }
      ]
    },
    {
      "cell_type": "markdown",
      "source": [
        "# Classes and Objects in Python\n",
        "- when we are writing a code we create a structure like blueprint is class\n",
        "- object are created based on class (blueprint)\n",
        "- python is a object oriented prgramming language\n",
        "- everything is created as a class and object in python\n",
        "- we use self as a placehodler for object ie s1 so it will be like information(s1) and print (s1.name)\n"
      ],
      "metadata": {
        "id": "lj_RIKWW3ZMi"
      }
    },
    {
      "cell_type": "code",
      "source": [
        "# here 10 is the object of the class integer\n",
        "print(type(10))"
      ],
      "metadata": {
        "id": "E_qYZP2QJzaA",
        "colab": {
          "base_uri": "https://localhost:8080/"
        },
        "outputId": "19a0f16b-ddf8-4395-9690-de526dd816ce"
      },
      "execution_count": 1,
      "outputs": [
        {
          "output_type": "stream",
          "name": "stdout",
          "text": [
            "<class 'int'>\n"
          ]
        }
      ]
    },
    {
      "cell_type": "markdown",
      "source": [
        "``` python\n",
        "\n",
        "class class_name():\n",
        "  # define functions and variables inside class\n",
        "\n",
        "```"
      ],
      "metadata": {
        "id": "eK5wOnbW5YcW"
      }
    },
    {
      "cell_type": "code",
      "source": [
        "class Student(): # studnet is class name\n",
        "  name = \"Sam\" # variable\n",
        "\n",
        "  def information(self): # this function is called a method\n",
        "    print(self.name)"
      ],
      "metadata": {
        "id": "CItSDgfn4Yu6"
      },
      "execution_count": 2,
      "outputs": []
    },
    {
      "cell_type": "code",
      "source": [
        "# create a object s1\n",
        "s1 = Student()\n",
        "type(s1)"
      ],
      "metadata": {
        "id": "Tro3r5Ov6YKS",
        "outputId": "fa146da3-3843-4eea-d05b-cbb395856c30",
        "colab": {
          "base_uri": "https://localhost:8080/"
        }
      },
      "execution_count": 3,
      "outputs": [
        {
          "output_type": "execute_result",
          "data": {
            "text/plain": [
              "__main__.Student"
            ]
          },
          "metadata": {},
          "execution_count": 3
        }
      ]
    },
    {
      "cell_type": "code",
      "source": [
        "# I can access the variables inside the class\n",
        "\n",
        "s1.name"
      ],
      "metadata": {
        "id": "UyWFnwxB6mCD",
        "outputId": "2391624f-0017-4308-b547-bea58a7b7105",
        "colab": {
          "base_uri": "https://localhost:8080/",
          "height": 38
        }
      },
      "execution_count": 4,
      "outputs": [
        {
          "output_type": "execute_result",
          "data": {
            "text/plain": [
              "'Sam'"
            ],
            "application/vnd.google.colaboratory.intrinsic+json": {
              "type": "string"
            }
          },
          "metadata": {},
          "execution_count": 4
        }
      ]
    },
    {
      "cell_type": "code",
      "source": [
        "s1.information()"
      ],
      "metadata": {
        "id": "fExz5stO63pd",
        "outputId": "a8e09e7c-0f96-4037-8417-7ea288d317d2",
        "colab": {
          "base_uri": "https://localhost:8080/"
        }
      },
      "execution_count": 7,
      "outputs": [
        {
          "output_type": "stream",
          "name": "stdout",
          "text": [
            "Sam\n"
          ]
        }
      ]
    },
    {
      "cell_type": "markdown",
      "source": [
        "## Initializer Method\n",
        "- Initializer is a special function"
      ],
      "metadata": {
        "id": "efGUTRcC7_bj"
      }
    },
    {
      "cell_type": "code",
      "source": [
        "class Student():\n",
        "  def __init__(self, input_name):\n",
        "    self.input_name = input_name\n",
        "  def information(self):\n",
        "    print(self.input_name)"
      ],
      "metadata": {
        "id": "Vkc72rYx6_dt"
      },
      "execution_count": 8,
      "outputs": []
    },
    {
      "cell_type": "code",
      "source": [
        "s1 = Student(\"Ram\")"
      ],
      "metadata": {
        "id": "XQFL4qbM9YW8"
      },
      "execution_count": 9,
      "outputs": []
    },
    {
      "cell_type": "code",
      "source": [
        "s1.input_name"
      ],
      "metadata": {
        "id": "Mh7d--109a9m",
        "outputId": "5f55b86d-90d8-493c-9641-2c3602da4152",
        "colab": {
          "base_uri": "https://localhost:8080/",
          "height": 38
        }
      },
      "execution_count": 10,
      "outputs": [
        {
          "output_type": "execute_result",
          "data": {
            "text/plain": [
              "'Ram'"
            ],
            "application/vnd.google.colaboratory.intrinsic+json": {
              "type": "string"
            }
          },
          "metadata": {},
          "execution_count": 10
        }
      ]
    },
    {
      "cell_type": "code",
      "source": [
        "s1.information()"
      ],
      "metadata": {
        "id": "H6pPdspv9dKC",
        "outputId": "f155915a-5281-444b-d13a-2d8515ae752b",
        "colab": {
          "base_uri": "https://localhost:8080/"
        }
      },
      "execution_count": 11,
      "outputs": [
        {
          "output_type": "stream",
          "name": "stdout",
          "text": [
            "Ram\n"
          ]
        }
      ]
    },
    {
      "cell_type": "code",
      "source": [],
      "metadata": {
        "id": "nlMX9Z9h9iPt"
      },
      "execution_count": null,
      "outputs": []
    }
  ]
}
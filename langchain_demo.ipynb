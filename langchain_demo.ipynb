{
  "nbformat": 4,
  "nbformat_minor": 0,
  "metadata": {
    "colab": {
      "provenance": [],
      "authorship_tag": "ABX9TyN3d3OgH+1schdW5zW7zjRx",
      "include_colab_link": true
    },
    "kernelspec": {
      "name": "python3",
      "display_name": "Python 3"
    },
    "language_info": {
      "name": "python"
    }
  },
  "cells": [
    {
      "cell_type": "markdown",
      "metadata": {
        "id": "view-in-github",
        "colab_type": "text"
      },
      "source": [
        "<a href=\"https://colab.research.google.com/github/sampathkaran/AgenticAI/blob/main/langchain_demo.ipynb\" target=\"_parent\"><img src=\"https://colab.research.google.com/assets/colab-badge.svg\" alt=\"Open In Colab\"/></a>"
      ]
    },
    {
      "cell_type": "code",
      "execution_count": 8,
      "metadata": {
        "id": "kSklvksesi9W"
      },
      "outputs": [],
      "source": [
        "! pip install langchain-openai -q"
      ]
    },
    {
      "cell_type": "code",
      "source": [
        "from google.colab import userdata"
      ],
      "metadata": {
        "id": "sNscILk4xuEA"
      },
      "execution_count": 13,
      "outputs": []
    },
    {
      "cell_type": "code",
      "source": [
        "import os\n",
        "os.environ[\"OPENAI_API_KEY\"] = userdata.get('open-api-key')"
      ],
      "metadata": {
        "id": "VSPyQ-qVstAQ"
      },
      "execution_count": 14,
      "outputs": []
    },
    {
      "cell_type": "code",
      "source": [
        "from langchain_openai import ChatOpenAI\n",
        "llm = ChatOpenAI(model=\"gpt-5-nano\",temperature=0.5) # (0-1) 0 -less randomness, 1- more randonmenss"
      ],
      "metadata": {
        "id": "XykSYrjuuZE1"
      },
      "execution_count": 15,
      "outputs": []
    },
    {
      "cell_type": "code",
      "source": [
        "response = llm.invoke(\"what is the capital of singapore\")"
      ],
      "metadata": {
        "id": "BCf169JXvLxC"
      },
      "execution_count": 26,
      "outputs": []
    },
    {
      "cell_type": "code",
      "source": [
        "response"
      ],
      "metadata": {
        "colab": {
          "base_uri": "https://localhost:8080/"
        },
        "id": "7Hl7sSL1xWOw",
        "outputId": "bdcfe807-5ada-4090-b6e7-1e74373bc0a9"
      },
      "execution_count": 27,
      "outputs": [
        {
          "output_type": "execute_result",
          "data": {
            "text/plain": [
              "AIMessage(content='Singapore. (Singapore is a city-state, so the capital is also the city of Singapore.)', additional_kwargs={'refusal': None}, response_metadata={'token_usage': {'completion_tokens': 220, 'prompt_tokens': 12, 'total_tokens': 232, 'completion_tokens_details': {'accepted_prediction_tokens': 0, 'audio_tokens': 0, 'reasoning_tokens': 192, 'rejected_prediction_tokens': 0}, 'prompt_tokens_details': {'audio_tokens': 0, 'cached_tokens': 0}}, 'model_name': 'gpt-5-nano-2025-08-07', 'system_fingerprint': None, 'id': 'chatcmpl-CNftWgZfHMgXi2mPtdqNw3gCj7pdF', 'service_tier': 'default', 'finish_reason': 'stop', 'logprobs': None}, id='run--d5e5ad50-3b7e-4f8c-94ec-fae37ac5eea6-0', usage_metadata={'input_tokens': 12, 'output_tokens': 220, 'total_tokens': 232, 'input_token_details': {'audio': 0, 'cache_read': 0}, 'output_token_details': {'audio': 0, 'reasoning': 192}})"
            ]
          },
          "metadata": {},
          "execution_count": 27
        }
      ]
    },
    {
      "cell_type": "code",
      "source": [
        "response.content"
      ],
      "metadata": {
        "colab": {
          "base_uri": "https://localhost:8080/",
          "height": 38
        },
        "id": "yKT0gjwCyAiB",
        "outputId": "cb8af654-2d37-400d-821e-aa97c5863ba5"
      },
      "execution_count": 28,
      "outputs": [
        {
          "output_type": "execute_result",
          "data": {
            "text/plain": [
              "'Singapore. (Singapore is a city-state, so the capital is also the city of Singapore.)'"
            ],
            "application/vnd.google.colaboratory.intrinsic+json": {
              "type": "string"
            }
          },
          "metadata": {},
          "execution_count": 28
        }
      ]
    },
    {
      "cell_type": "markdown",
      "source": [
        "##### Prompt Templates"
      ],
      "metadata": {
        "id": "avRQg1iOy7yg"
      }
    },
    {
      "cell_type": "code",
      "source": [
        "from langchain_core.prompts import PromptTemplate"
      ],
      "metadata": {
        "id": "XCSBldqyyEFM"
      },
      "execution_count": 29,
      "outputs": []
    },
    {
      "cell_type": "code",
      "source": [
        "# instantiate using the initializer\n",
        "\n",
        "prompt = PromptTemplate(input_variables = [\"vehicle\"],\n",
        "                        template = \"I love driving {vehicle}\")"
      ],
      "metadata": {
        "id": "1BbjKkmk1TSq"
      },
      "execution_count": 31,
      "outputs": []
    },
    {
      "cell_type": "code",
      "source": [
        "prompt"
      ],
      "metadata": {
        "colab": {
          "base_uri": "https://localhost:8080/"
        },
        "id": "zKDCOKQr4O2C",
        "outputId": "491e8312-edd7-48f8-b4c2-0b8c6cd3b523"
      },
      "execution_count": 32,
      "outputs": [
        {
          "output_type": "execute_result",
          "data": {
            "text/plain": [
              "PromptTemplate(input_variables=['vehicle'], input_types={}, partial_variables={}, template='I love driving {vehicle}')"
            ]
          },
          "metadata": {},
          "execution_count": 32
        }
      ]
    },
    {
      "cell_type": "code",
      "source": [
        "prompt.format(vehicle = \"cars\")"
      ],
      "metadata": {
        "colab": {
          "base_uri": "https://localhost:8080/",
          "height": 38
        },
        "id": "DpcsncWI4PuL",
        "outputId": "dcce373a-efcb-4a50-b52b-2bff57ec6e14"
      },
      "execution_count": 33,
      "outputs": [
        {
          "output_type": "execute_result",
          "data": {
            "text/plain": [
              "'I love driving cars'"
            ],
            "application/vnd.google.colaboratory.intrinsic+json": {
              "type": "string"
            }
          },
          "metadata": {},
          "execution_count": 33
        }
      ]
    },
    {
      "cell_type": "code",
      "source": [
        "# instantiate using variables\n",
        "# here each user input is a dict where key is variable and value is the value\n",
        "prompt_template = PromptTemplate.from_template(\" I dont like {content}\")\n",
        "prompt_template.invoke({\"content\": \"texting\"})"
      ],
      "metadata": {
        "colab": {
          "base_uri": "https://localhost:8080/"
        },
        "id": "L4n2QppO4Xrv",
        "outputId": "ef18503e-9038-4242-85c3-8eea7f81782f"
      },
      "execution_count": 35,
      "outputs": [
        {
          "output_type": "execute_result",
          "data": {
            "text/plain": [
              "StringPromptValue(text=' I dont like texting')"
            ]
          },
          "metadata": {},
          "execution_count": 35
        }
      ]
    },
    {
      "cell_type": "markdown",
      "source": [
        "#####ChatPromptTemplate"
      ],
      "metadata": {
        "id": "l4OcGTA46YBn"
      }
    },
    {
      "cell_type": "code",
      "source": [
        "from langchain_core.prompts import ChatPromptTemplate"
      ],
      "metadata": {
        "id": "Wy4XiQsB4mwy"
      },
      "execution_count": 38,
      "outputs": []
    },
    {
      "cell_type": "code",
      "source": [
        "\n",
        "prompt_template = ChatPromptTemplate([\n",
        "    (\"system\", \"you are a helpful AI assistant with a sense of humor answer with 2 sentence\"),\n",
        "    (\"human\", \"hi, how are you\"),\n",
        "    (\"ai\", \"I am good, thankyou\"),\n",
        "    (\"human\", \"{topic}\")\n",
        "])"
      ],
      "metadata": {
        "id": "bEz0sqOv6WXr"
      },
      "execution_count": 47,
      "outputs": []
    },
    {
      "cell_type": "code",
      "source": [
        "prompt_template"
      ],
      "metadata": {
        "colab": {
          "base_uri": "https://localhost:8080/"
        },
        "id": "ohjKMNu38rx6",
        "outputId": "eb25c1b5-c679-4a51-ffaf-ec76ec79147e"
      },
      "execution_count": 48,
      "outputs": [
        {
          "output_type": "execute_result",
          "data": {
            "text/plain": [
              "ChatPromptTemplate(input_variables=['topic'], input_types={}, partial_variables={}, messages=[SystemMessagePromptTemplate(prompt=PromptTemplate(input_variables=[], input_types={}, partial_variables={}, template='you are a helpful AI assistant with a sense of humor answer with 2 sentence'), additional_kwargs={}), HumanMessagePromptTemplate(prompt=PromptTemplate(input_variables=[], input_types={}, partial_variables={}, template='hi, how are you'), additional_kwargs={}), AIMessagePromptTemplate(prompt=PromptTemplate(input_variables=[], input_types={}, partial_variables={}, template='I am good, thankyou'), additional_kwargs={}), HumanMessagePromptTemplate(prompt=PromptTemplate(input_variables=['topic'], input_types={}, partial_variables={}, template='{topic}'), additional_kwargs={})])"
            ]
          },
          "metadata": {},
          "execution_count": 48
        }
      ]
    },
    {
      "cell_type": "code",
      "source": [
        "prompt_value = prompt_template.format_messages(topic = \"Thats what she\")"
      ],
      "metadata": {
        "id": "t8MbJRUL7_U8"
      },
      "execution_count": 52,
      "outputs": []
    },
    {
      "cell_type": "code",
      "source": [
        "response = llm.invoke(prompt_value)"
      ],
      "metadata": {
        "id": "d_-2x4Pm8bkI"
      },
      "execution_count": 53,
      "outputs": []
    },
    {
      "cell_type": "code",
      "source": [
        "response.content"
      ],
      "metadata": {
        "colab": {
          "base_uri": "https://localhost:8080/",
          "height": 38
        },
        "id": "R6W7ua4X8klP",
        "outputId": "ccea4505-14fd-4f27-c3d6-2eb9f074d44b"
      },
      "execution_count": 54,
      "outputs": [
        {
          "output_type": "execute_result",
          "data": {
            "text/plain": [
              "\"That's what she said—classic line, never gets old. What would you like to chat about next—jokes or something serious?\""
            ],
            "application/vnd.google.colaboratory.intrinsic+json": {
              "type": "string"
            }
          },
          "metadata": {},
          "execution_count": 54
        }
      ]
    },
    {
      "cell_type": "code",
      "source": [],
      "metadata": {
        "id": "BnFgzHjs9Njl"
      },
      "execution_count": null,
      "outputs": []
    }
  ]
}
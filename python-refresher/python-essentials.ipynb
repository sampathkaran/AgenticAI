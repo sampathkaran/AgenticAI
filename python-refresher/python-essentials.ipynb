{
  "nbformat": 4,
  "nbformat_minor": 0,
  "metadata": {
    "colab": {
      "provenance": [],
      "toc_visible": true,
      "authorship_tag": "ABX9TyOYaoRJzb+z5A8caLMP1mi+",
      "include_colab_link": true
    },
    "kernelspec": {
      "name": "python3",
      "display_name": "Python 3"
    },
    "language_info": {
      "name": "python"
    }
  },
  "cells": [
    {
      "cell_type": "markdown",
      "metadata": {
        "id": "view-in-github",
        "colab_type": "text"
      },
      "source": [
        "<a href=\"https://colab.research.google.com/github/sampathkaran/AgenticAI/blob/main/python-refresher/python-essentials.ipynb\" target=\"_parent\"><img src=\"https://colab.research.google.com/assets/colab-badge.svg\" alt=\"Open In Colab\"/></a>"
      ]
    },
    {
      "cell_type": "code",
      "execution_count": null,
      "metadata": {
        "colab": {
          "base_uri": "https://localhost:8080/"
        },
        "id": "rV1_UwYb1Uqc",
        "outputId": "6a54015d-e8bc-42ce-c86c-f33a10f727a3"
      },
      "outputs": [
        {
          "output_type": "stream",
          "name": "stdout",
          "text": [
            "10\n"
          ]
        }
      ],
      "source": [
        "x =10\n",
        "print(x)"
      ]
    },
    {
      "cell_type": "code",
      "source": [
        "X=100\n",
        "print(X)"
      ],
      "metadata": {
        "colab": {
          "base_uri": "https://localhost:8080/"
        },
        "id": "Y0SMubFJ1Ywr",
        "outputId": "51ed72bd-e3f6-4884-d8a0-d9049b36793a"
      },
      "execution_count": null,
      "outputs": [
        {
          "output_type": "stream",
          "name": "stdout",
          "text": [
            "100\n"
          ]
        }
      ]
    },
    {
      "cell_type": "code",
      "source": [
        "print(x)"
      ],
      "metadata": {
        "colab": {
          "base_uri": "https://localhost:8080/"
        },
        "id": "pZoriVOs1eqb",
        "outputId": "8bf76b0a-0e6a-4d9c-f428-2ba9fa854e06"
      },
      "execution_count": null,
      "outputs": [
        {
          "output_type": "stream",
          "name": "stdout",
          "text": [
            "10\n"
          ]
        }
      ]
    },
    {
      "cell_type": "code",
      "source": [
        "_name = \"john\""
      ],
      "metadata": {
        "id": "RuISxMw21gvc"
      },
      "execution_count": null,
      "outputs": []
    },
    {
      "cell_type": "code",
      "source": [
        "print (_name)"
      ],
      "metadata": {
        "colab": {
          "base_uri": "https://localhost:8080/"
        },
        "id": "tEIFD5Tq1ymR",
        "outputId": "0d0489d6-2934-4eb0-d64a-dfd81eb4c7ba"
      },
      "execution_count": null,
      "outputs": [
        {
          "output_type": "stream",
          "name": "stdout",
          "text": [
            "john\n"
          ]
        }
      ]
    },
    {
      "cell_type": "code",
      "source": [
        "x =100\n",
        "type(x)"
      ],
      "metadata": {
        "colab": {
          "base_uri": "https://localhost:8080/"
        },
        "id": "ji4hKsqh10RY",
        "outputId": "c544da25-e513-4126-e1e4-2ed36d5cd666"
      },
      "execution_count": null,
      "outputs": [
        {
          "output_type": "execute_result",
          "data": {
            "text/plain": [
              "int"
            ]
          },
          "metadata": {},
          "execution_count": 7
        }
      ]
    },
    {
      "cell_type": "code",
      "source": [
        "x= -7.6\n",
        "type(x)"
      ],
      "metadata": {
        "colab": {
          "base_uri": "https://localhost:8080/"
        },
        "id": "-cJIb9qv5-uO",
        "outputId": "3f28284c-e868-4ee4-ab92-6abf35d2de23"
      },
      "execution_count": null,
      "outputs": [
        {
          "output_type": "execute_result",
          "data": {
            "text/plain": [
              "float"
            ]
          },
          "metadata": {},
          "execution_count": 8
        }
      ]
    },
    {
      "cell_type": "code",
      "source": [
        "x = [1, 5.6, \"hello\"]\n",
        "x"
      ],
      "metadata": {
        "colab": {
          "base_uri": "https://localhost:8080/"
        },
        "id": "bzdnMKye6Gtv",
        "outputId": "f337ff78-9390-4e84-e220-6c66c7e66a56"
      },
      "execution_count": null,
      "outputs": [
        {
          "output_type": "execute_result",
          "data": {
            "text/plain": [
              "[1, 5.6, 'hello']"
            ]
          },
          "metadata": {},
          "execution_count": 9
        }
      ]
    },
    {
      "cell_type": "code",
      "source": [
        "type(x)"
      ],
      "metadata": {
        "colab": {
          "base_uri": "https://localhost:8080/"
        },
        "id": "lOQz0noU-03e",
        "outputId": "be9cb627-b920-4bbd-9279-681286e063b0"
      },
      "execution_count": null,
      "outputs": [
        {
          "output_type": "execute_result",
          "data": {
            "text/plain": [
              "list"
            ]
          },
          "metadata": {},
          "execution_count": 10
        }
      ]
    },
    {
      "cell_type": "code",
      "source": [
        "x[2] = \"world\""
      ],
      "metadata": {
        "id": "jpkOeBwe_Lzq"
      },
      "execution_count": null,
      "outputs": []
    },
    {
      "cell_type": "code",
      "source": [
        "x"
      ],
      "metadata": {
        "colab": {
          "base_uri": "https://localhost:8080/"
        },
        "id": "Zlpjz5GV_Ua4",
        "outputId": "2b81038f-3dc0-4450-ba7b-7d054ea0d825"
      },
      "execution_count": null,
      "outputs": [
        {
          "output_type": "execute_result",
          "data": {
            "text/plain": [
              "[1, 5.6, 'world']"
            ]
          },
          "metadata": {},
          "execution_count": 15
        }
      ]
    },
    {
      "cell_type": "code",
      "source": [
        "y = (3, 6.7, \"hello\")"
      ],
      "metadata": {
        "id": "vZMLPGMg-2h_"
      },
      "execution_count": null,
      "outputs": []
    },
    {
      "cell_type": "code",
      "source": [
        "type(y)"
      ],
      "metadata": {
        "colab": {
          "base_uri": "https://localhost:8080/"
        },
        "id": "cSdIH35d_H8x",
        "outputId": "1894ae06-0bd8-444a-c4d8-e1a3145fb33c"
      },
      "execution_count": null,
      "outputs": [
        {
          "output_type": "execute_result",
          "data": {
            "text/plain": [
              "tuple"
            ]
          },
          "metadata": {},
          "execution_count": 12
        }
      ]
    },
    {
      "cell_type": "code",
      "source": [],
      "metadata": {
        "id": "5kqCgzqj_JmU"
      },
      "execution_count": null,
      "outputs": []
    },
    {
      "cell_type": "markdown",
      "source": [
        "# Assignment\n",
        "- Create a calculate app\n",
        "- Get the input from user\n",
        "- perform the calculation"
      ],
      "metadata": {
        "id": "1sUjHK5nBKtl"
      }
    },
    {
      "cell_type": "code",
      "source": [
        "# get input from user\n",
        "x = input(\"Enter the value:\")\n",
        "x"
      ],
      "metadata": {
        "colab": {
          "base_uri": "https://localhost:8080/",
          "height": 59
        },
        "id": "oUxyqkppBTvR",
        "outputId": "751d64ad-1024-4481-ac42-0eedc6e67206"
      },
      "execution_count": null,
      "outputs": [
        {
          "name": "stdout",
          "output_type": "stream",
          "text": [
            "Enter the value:2\n"
          ]
        },
        {
          "output_type": "execute_result",
          "data": {
            "text/plain": [
              "'2'"
            ],
            "application/vnd.google.colaboratory.intrinsic+json": {
              "type": "string"
            }
          },
          "metadata": {},
          "execution_count": 16
        }
      ]
    },
    {
      "cell_type": "code",
      "source": [
        "x"
      ],
      "metadata": {
        "colab": {
          "base_uri": "https://localhost:8080/",
          "height": 38
        },
        "id": "Fpzbt5yZBk2u",
        "outputId": "9566b31a-17e3-4b19-b3ce-74c6dd387473"
      },
      "execution_count": null,
      "outputs": [
        {
          "output_type": "execute_result",
          "data": {
            "text/plain": [
              "'2'"
            ],
            "application/vnd.google.colaboratory.intrinsic+json": {
              "type": "string"
            }
          },
          "metadata": {},
          "execution_count": 17
        }
      ]
    },
    {
      "cell_type": "code",
      "source": [
        "num1 = input(\"Enter the value 1: \")\n",
        "num2 = input(\"Enter the value 2: \")\n",
        "result = num1 + num2"
      ],
      "metadata": {
        "colab": {
          "base_uri": "https://localhost:8080/"
        },
        "id": "-BUgq8iTBpcb",
        "outputId": "0dedbe10-6bb9-4e19-8879-87bc6d799003"
      },
      "execution_count": null,
      "outputs": [
        {
          "name": "stdout",
          "output_type": "stream",
          "text": [
            "Enter the value 1: 10\n",
            "Enter the value 2: 20\n"
          ]
        }
      ]
    },
    {
      "cell_type": "code",
      "source": [
        "result"
      ],
      "metadata": {
        "colab": {
          "base_uri": "https://localhost:8080/",
          "height": 38
        },
        "id": "GT-wV-zEB9nv",
        "outputId": "b12b60c4-420d-4174-ad2b-dfdbdf9f11ff"
      },
      "execution_count": null,
      "outputs": [
        {
          "output_type": "execute_result",
          "data": {
            "text/plain": [
              "'1020'"
            ],
            "application/vnd.google.colaboratory.intrinsic+json": {
              "type": "string"
            }
          },
          "metadata": {},
          "execution_count": 19
        }
      ]
    },
    {
      "cell_type": "code",
      "source": [
        "type(num1)"
      ],
      "metadata": {
        "colab": {
          "base_uri": "https://localhost:8080/"
        },
        "id": "66-C2-B5CCfO",
        "outputId": "ceae588c-4338-463d-bd4b-8399e8a74a26"
      },
      "execution_count": null,
      "outputs": [
        {
          "output_type": "execute_result",
          "data": {
            "text/plain": [
              "str"
            ]
          },
          "metadata": {},
          "execution_count": 20
        }
      ]
    },
    {
      "cell_type": "code",
      "source": [
        "type(num2)"
      ],
      "metadata": {
        "colab": {
          "base_uri": "https://localhost:8080/"
        },
        "id": "wgtTXKtkCGj9",
        "outputId": "d778165a-0da1-4c85-b135-453314207b2f"
      },
      "execution_count": null,
      "outputs": [
        {
          "output_type": "execute_result",
          "data": {
            "text/plain": [
              "str"
            ]
          },
          "metadata": {},
          "execution_count": 21
        }
      ]
    },
    {
      "cell_type": "code",
      "source": [
        "# Type Casting - Explicit Casting\n",
        "num1 = int(input(\"Enter the value 1: \"))\n",
        "num2 = int(input(\"Enter the value 2: \"))\n",
        "operation = int(input(\"\"\"Enter the number for operation to be performed:\n",
        "                   0 - Additon\n",
        "                   1 - Subtraction\n",
        "                   2 - Multipliation\n",
        "                   3 - Divsion\n",
        "                   \"\"\"))\n",
        "if operation == 0:\n",
        "  result = num1 + num2\n",
        "elif operation == 1:\n",
        "  result = num1 - num2\n",
        "elif operation == 2:\n",
        "  result = num1 * num2\n",
        "else:\n",
        "  result = num1 / num2\n",
        "print (result)"
      ],
      "metadata": {
        "colab": {
          "base_uri": "https://localhost:8080/"
        },
        "id": "S6T-YAHsCIbI",
        "outputId": "ab033f3b-6314-4a3f-9fde-121dda6c5386"
      },
      "execution_count": null,
      "outputs": [
        {
          "output_type": "stream",
          "name": "stdout",
          "text": [
            "Enter the value 1: 10\n",
            "Enter the value 2: 5\n",
            "Enter the number for operation to be performed:\n",
            "                   0 - Additon\n",
            "                   1 - Subtraction\n",
            "                   2 - Multipliation\n",
            "                   3 - Divsion\n",
            "                   3\n",
            "2.0\n"
          ]
        }
      ]
    },
    {
      "cell_type": "code",
      "source": [
        "not(True)"
      ],
      "metadata": {
        "colab": {
          "base_uri": "https://localhost:8080/"
        },
        "id": "WWHxZ0wVDcBT",
        "outputId": "3e46044b-5fb2-4d08-cd51-88be390fa81c"
      },
      "execution_count": null,
      "outputs": [
        {
          "output_type": "execute_result",
          "data": {
            "text/plain": [
              "False"
            ]
          },
          "metadata": {},
          "execution_count": 37
        }
      ]
    },
    {
      "cell_type": "code",
      "source": [
        "True and True"
      ],
      "metadata": {
        "colab": {
          "base_uri": "https://localhost:8080/"
        },
        "id": "4xbA9Q4iJtpB",
        "outputId": "1a3b6b28-e289-4d5c-8af0-2ca275b7a949"
      },
      "execution_count": null,
      "outputs": [
        {
          "output_type": "execute_result",
          "data": {
            "text/plain": [
              "True"
            ]
          },
          "metadata": {},
          "execution_count": 38
        }
      ]
    },
    {
      "cell_type": "code",
      "source": [
        "True and False"
      ],
      "metadata": {
        "colab": {
          "base_uri": "https://localhost:8080/"
        },
        "id": "zKE8ymStJwgX",
        "outputId": "3f755409-5b14-448f-f967-88e59b158cf6"
      },
      "execution_count": null,
      "outputs": [
        {
          "output_type": "execute_result",
          "data": {
            "text/plain": [
              "False"
            ]
          },
          "metadata": {},
          "execution_count": 39
        }
      ]
    },
    {
      "cell_type": "code",
      "source": [
        "False and False"
      ],
      "metadata": {
        "colab": {
          "base_uri": "https://localhost:8080/"
        },
        "id": "DL6xwfRTJyNd",
        "outputId": "53071e67-9945-4e59-d4bd-bb19ca09f2a9"
      },
      "execution_count": null,
      "outputs": [
        {
          "output_type": "execute_result",
          "data": {
            "text/plain": [
              "False"
            ]
          },
          "metadata": {},
          "execution_count": 40
        }
      ]
    },
    {
      "cell_type": "markdown",
      "source": [
        "# Classes and Objects in Python\n",
        "- when we are writing a code we create a structure like blueprint is class\n",
        "- object are created based on class (blueprint)\n",
        "- python is a object oriented prgramming language\n",
        "- everything is created as a class and object in python\n",
        "- we use self as a placehodler for object ie s1 so it will be like information(s1) and print (s1.name)\n"
      ],
      "metadata": {
        "id": "lj_RIKWW3ZMi"
      }
    },
    {
      "cell_type": "code",
      "source": [
        "# here 10 is the object of the class integer\n",
        "print(type(10))"
      ],
      "metadata": {
        "id": "E_qYZP2QJzaA",
        "colab": {
          "base_uri": "https://localhost:8080/"
        },
        "outputId": "19a0f16b-ddf8-4395-9690-de526dd816ce"
      },
      "execution_count": null,
      "outputs": [
        {
          "output_type": "stream",
          "name": "stdout",
          "text": [
            "<class 'int'>\n"
          ]
        }
      ]
    },
    {
      "cell_type": "markdown",
      "source": [
        "``` python\n",
        "\n",
        "class class_name():\n",
        "  # define functions and variables inside class\n",
        "\n",
        "```"
      ],
      "metadata": {
        "id": "eK5wOnbW5YcW"
      }
    },
    {
      "cell_type": "code",
      "source": [
        "class Student(): # studnet is class name\n",
        "  name = \"Sam\" # variable\n",
        "\n",
        "  def information(self): # this function is called a method\n",
        "    print(self.name)"
      ],
      "metadata": {
        "id": "CItSDgfn4Yu6"
      },
      "execution_count": null,
      "outputs": []
    },
    {
      "cell_type": "code",
      "source": [
        "# create a object s1\n",
        "s1 = Student()\n",
        "type(s1)"
      ],
      "metadata": {
        "colab": {
          "base_uri": "https://localhost:8080/"
        },
        "id": "Tro3r5Ov6YKS",
        "outputId": "fa146da3-3843-4eea-d05b-cbb395856c30"
      },
      "execution_count": null,
      "outputs": [
        {
          "output_type": "execute_result",
          "data": {
            "text/plain": [
              "__main__.Student"
            ]
          },
          "metadata": {},
          "execution_count": 3
        }
      ]
    },
    {
      "cell_type": "code",
      "source": [
        "# I can access the variables inside the class\n",
        "\n",
        "s1.name"
      ],
      "metadata": {
        "colab": {
          "base_uri": "https://localhost:8080/",
          "height": 38
        },
        "id": "UyWFnwxB6mCD",
        "outputId": "2391624f-0017-4308-b547-bea58a7b7105"
      },
      "execution_count": null,
      "outputs": [
        {
          "output_type": "execute_result",
          "data": {
            "text/plain": [
              "'Sam'"
            ],
            "application/vnd.google.colaboratory.intrinsic+json": {
              "type": "string"
            }
          },
          "metadata": {},
          "execution_count": 4
        }
      ]
    },
    {
      "cell_type": "code",
      "source": [
        "s1.information()"
      ],
      "metadata": {
        "colab": {
          "base_uri": "https://localhost:8080/"
        },
        "id": "fExz5stO63pd",
        "outputId": "a8e09e7c-0f96-4037-8417-7ea288d317d2"
      },
      "execution_count": null,
      "outputs": [
        {
          "output_type": "stream",
          "name": "stdout",
          "text": [
            "Sam\n"
          ]
        }
      ]
    },
    {
      "cell_type": "markdown",
      "source": [
        "## Initializer Method\n",
        "- Initializer is a special function"
      ],
      "metadata": {
        "id": "efGUTRcC7_bj"
      }
    },
    {
      "cell_type": "code",
      "source": [
        "class Student():\n",
        "  def __init__(self, input_name):\n",
        "    self.input_name = input_name\n",
        "  def information(self):\n",
        "    print(self.input_name)"
      ],
      "metadata": {
        "id": "Vkc72rYx6_dt"
      },
      "execution_count": null,
      "outputs": []
    },
    {
      "cell_type": "code",
      "source": [
        "s1 = Student(\"Ram\")"
      ],
      "metadata": {
        "id": "XQFL4qbM9YW8"
      },
      "execution_count": null,
      "outputs": []
    },
    {
      "cell_type": "code",
      "source": [
        "s1.input_name"
      ],
      "metadata": {
        "colab": {
          "base_uri": "https://localhost:8080/",
          "height": 38
        },
        "id": "Mh7d--109a9m",
        "outputId": "5f55b86d-90d8-493c-9641-2c3602da4152"
      },
      "execution_count": null,
      "outputs": [
        {
          "output_type": "execute_result",
          "data": {
            "text/plain": [
              "'Ram'"
            ],
            "application/vnd.google.colaboratory.intrinsic+json": {
              "type": "string"
            }
          },
          "metadata": {},
          "execution_count": 10
        }
      ]
    },
    {
      "cell_type": "code",
      "source": [
        "s1.information()"
      ],
      "metadata": {
        "colab": {
          "base_uri": "https://localhost:8080/"
        },
        "id": "H6pPdspv9dKC",
        "outputId": "f155915a-5281-444b-d13a-2d8515ae752b"
      },
      "execution_count": null,
      "outputs": [
        {
          "output_type": "stream",
          "name": "stdout",
          "text": [
            "Ram\n"
          ]
        }
      ]
    },
    {
      "cell_type": "markdown",
      "source": [
        "# Assignment\n",
        "\n",
        "- Create a class called circle\n",
        "- in the init method -- get radius\n",
        "- 2 method instide class\n",
        "   - area method - 3.14 * radius * raidus\n",
        "   - circumference to cacluate - 2 * 3.14 * radius\n"
      ],
      "metadata": {
        "id": "C3I2ifri9tlX"
      }
    },
    {
      "cell_type": "code",
      "source": [
        "class Circle():\n",
        "  def __init__(self, radius):\n",
        "    self.radius = radius\n",
        "  def area(self):\n",
        "    are = 3.14 * self.radius * self.radius\n",
        "    print(are)\n",
        "  def circumference(self):\n",
        "    circum = 2 * 3.14 * self.radius\n",
        "    print(circum)"
      ],
      "metadata": {
        "id": "nlMX9Z9h9iPt"
      },
      "execution_count": null,
      "outputs": []
    },
    {
      "cell_type": "code",
      "source": [
        "c1 = Circle(10)"
      ],
      "metadata": {
        "id": "VuRyOwys_CEz"
      },
      "execution_count": null,
      "outputs": []
    },
    {
      "cell_type": "code",
      "source": [
        "c1.area()"
      ],
      "metadata": {
        "colab": {
          "base_uri": "https://localhost:8080/"
        },
        "id": "pRtjTVZB_MAg",
        "outputId": "fb96f7cf-99fd-4686-c9ef-f7fdf03e47fa"
      },
      "execution_count": null,
      "outputs": [
        {
          "output_type": "stream",
          "name": "stdout",
          "text": [
            "314.0\n"
          ]
        }
      ]
    },
    {
      "cell_type": "code",
      "source": [
        "c1. circumference()"
      ],
      "metadata": {
        "colab": {
          "base_uri": "https://localhost:8080/"
        },
        "id": "EpziH2v-_UBF",
        "outputId": "198dbce4-0593-4e3f-9861-3c92c00798d7"
      },
      "execution_count": null,
      "outputs": [
        {
          "output_type": "stream",
          "name": "stdout",
          "text": [
            "62.800000000000004\n"
          ]
        }
      ]
    },
    {
      "cell_type": "code",
      "source": [
        "class Circle():\n",
        "  def __init__(self, radius, circumference):\n",
        "    self.radius = radius\n",
        "    self.circumference = circumference\n",
        "\n",
        "  def area(self):\n",
        "    a = 3.14 * self.radius * self.radius\n",
        "    print(a)"
      ],
      "metadata": {
        "id": "Ti_rl5l2k9Sm"
      },
      "execution_count": 59,
      "outputs": []
    },
    {
      "cell_type": "code",
      "source": [
        "obj1 = Circle(5, 10)"
      ],
      "metadata": {
        "id": "GxBXWH-glYy5"
      },
      "execution_count": 60,
      "outputs": []
    },
    {
      "cell_type": "code",
      "source": [
        "obj1.area()"
      ],
      "metadata": {
        "colab": {
          "base_uri": "https://localhost:8080/"
        },
        "id": "uoa63hWFldUv",
        "outputId": "b163e801-e167-4e1c-b8ea-3d063153e397"
      },
      "execution_count": 61,
      "outputs": [
        {
          "output_type": "stream",
          "name": "stdout",
          "text": [
            "78.5\n"
          ]
        }
      ]
    },
    {
      "cell_type": "markdown",
      "source": [
        "## Inheritance\n",
        "\n",
        "- inheritance allows a class to inherit attributes and methods from another class\n",
        "- the inherited class is called subclass and the base class is called superclass\n",
        "\n",
        "## Encapsulation\n",
        "\n",
        "- restrict access to some of the components to prevent from acciental modification of data\n",
        "\n",
        "```\n",
        "class A():\n",
        "  def __init__(self, name, age):\n",
        "    self._name = name # protected attribute\n",
        "    self.__age = age # private atrribute\n",
        "  def function_b():\n",
        "\n",
        "\n",
        " ```"
      ],
      "metadata": {
        "id": "CI2WVyt4lm5E"
      }
    },
    {
      "cell_type": "code",
      "source": [
        "# Inheritance\n",
        "\n",
        "class Car:\n",
        "  pass\n",
        "\n",
        "class SUV(Car): # subclass -as it uses the name of parent class\n",
        "  pass"
      ],
      "metadata": {
        "id": "T4MS8mMVllvj"
      },
      "execution_count": 62,
      "outputs": []
    },
    {
      "cell_type": "code",
      "source": [
        "issubclass(SUV, Car)"
      ],
      "metadata": {
        "colab": {
          "base_uri": "https://localhost:8080/"
        },
        "id": "onDjpJ3fr0w7",
        "outputId": "3af03d2d-e8f0-4861-8dac-0800d68ab8a3"
      },
      "execution_count": 64,
      "outputs": [
        {
          "output_type": "execute_result",
          "data": {
            "text/plain": [
              "True"
            ]
          },
          "metadata": {},
          "execution_count": 64
        }
      ]
    },
    {
      "cell_type": "code",
      "source": [
        "class Car:\n",
        "  def wheels(self):\n",
        "    print(\" i m a FWD car\")\n",
        "\n",
        "class SUV(Car): # subclass -as it uses the name of parent class\n",
        "  pass"
      ],
      "metadata": {
        "id": "EFBGxF6Rsh1M"
      },
      "execution_count": 65,
      "outputs": []
    },
    {
      "cell_type": "code",
      "source": [
        "c1 = Car()"
      ],
      "metadata": {
        "id": "M9w7dWAxsrvW"
      },
      "execution_count": 66,
      "outputs": []
    },
    {
      "cell_type": "code",
      "source": [
        "c2 = SUV()"
      ],
      "metadata": {
        "id": "BhMhurDVsvQW"
      },
      "execution_count": 67,
      "outputs": []
    },
    {
      "cell_type": "code",
      "source": [
        "c1.wheels()"
      ],
      "metadata": {
        "colab": {
          "base_uri": "https://localhost:8080/"
        },
        "id": "01ERTYhIsxnF",
        "outputId": "d22f9ffb-6223-4462-cdfb-7c9beaddbec2"
      },
      "execution_count": 68,
      "outputs": [
        {
          "output_type": "stream",
          "name": "stdout",
          "text": [
            " i m a FWD car\n"
          ]
        }
      ]
    },
    {
      "cell_type": "code",
      "source": [
        "c2.wheels()"
      ],
      "metadata": {
        "colab": {
          "base_uri": "https://localhost:8080/"
        },
        "id": "mcfTSPbws1AB",
        "outputId": "4d099b21-e987-45c5-d1a0-471e393c08da"
      },
      "execution_count": 69,
      "outputs": [
        {
          "output_type": "stream",
          "name": "stdout",
          "text": [
            " i m a FWD car\n"
          ]
        }
      ]
    },
    {
      "cell_type": "code",
      "source": [
        "# polymorphism\n",
        "# here we usually have same method name that belong to different class and can be called independetly\n",
        "class Car:\n",
        "  def wheels(self):\n",
        "    print(\"i m a FWD car\")\n",
        "  def type(self):\n",
        "    print(\"auto\")\n",
        "\n",
        "class SUV(Car):\n",
        "  def wheels(self):\n",
        "    print(\"i m a FWD SUV\")"
      ],
      "metadata": {
        "id": "R3PNTwE5ttan"
      },
      "execution_count": 75,
      "outputs": []
    },
    {
      "cell_type": "code",
      "source": [
        "c1 = Car()\n",
        "s1 = SUV()"
      ],
      "metadata": {
        "id": "afIC4ezlwvqy"
      },
      "execution_count": 76,
      "outputs": []
    },
    {
      "cell_type": "code",
      "source": [
        "c1.wheels()"
      ],
      "metadata": {
        "colab": {
          "base_uri": "https://localhost:8080/"
        },
        "id": "yTAuBXNfw1Ma",
        "outputId": "0f1cdac0-b3a9-4759-c9a9-28b888cb8a02"
      },
      "execution_count": 77,
      "outputs": [
        {
          "output_type": "stream",
          "name": "stdout",
          "text": [
            "i m a FWD car\n"
          ]
        }
      ]
    },
    {
      "cell_type": "code",
      "source": [
        "s1.wheels()"
      ],
      "metadata": {
        "colab": {
          "base_uri": "https://localhost:8080/"
        },
        "id": "Ca3kPzaMxCcl",
        "outputId": "5796b9c5-ea98-4b48-bf54-18caf95104b3"
      },
      "execution_count": 78,
      "outputs": [
        {
          "output_type": "stream",
          "name": "stdout",
          "text": [
            "i m a FWD SUV\n"
          ]
        }
      ]
    },
    {
      "cell_type": "code",
      "source": [
        "s1.type()"
      ],
      "metadata": {
        "colab": {
          "base_uri": "https://localhost:8080/"
        },
        "id": "2ivXyF8QxGFZ",
        "outputId": "ba5899c9-13a4-448a-d80c-6825a98e73d3"
      },
      "execution_count": 79,
      "outputs": [
        {
          "output_type": "stream",
          "name": "stdout",
          "text": [
            "auto\n"
          ]
        }
      ]
    },
    {
      "cell_type": "code",
      "source": [
        "# Multiple inheritance\n",
        "\n",
        "class Travel():\n",
        "\n",
        "  def __init__(self):\n",
        "    print(\"happy journey\")\n",
        "\n",
        "class Europe(Travel):\n",
        "  def weather(self):\n",
        "    print(\"cold in europe\")\n",
        "\n",
        "class India(Travel):\n",
        "  def weather(self):\n",
        "    print(\"hot in india\")\n",
        "\n",
        "class UAE(Travel):\n",
        "  def weather(self):\n",
        "    print(\"very hot in uae\")\n",
        "\n",
        "class destination(Europe, UAE, India):\n",
        "  pass"
      ],
      "metadata": {
        "id": "eewZFS5py5Fn"
      },
      "execution_count": 80,
      "outputs": []
    },
    {
      "cell_type": "code",
      "source": [
        "d1 = destination()"
      ],
      "metadata": {
        "colab": {
          "base_uri": "https://localhost:8080/"
        },
        "id": "1b_h8IqG0zA7",
        "outputId": "2d4edd29-c9f8-4938-d728-24ffd43d8372"
      },
      "execution_count": 82,
      "outputs": [
        {
          "output_type": "stream",
          "name": "stdout",
          "text": [
            "happy journey\n"
          ]
        }
      ]
    },
    {
      "cell_type": "code",
      "source": [
        "d1.weather()"
      ],
      "metadata": {
        "colab": {
          "base_uri": "https://localhost:8080/"
        },
        "id": "eN07Pk7I1FxZ",
        "outputId": "b295e1ff-0e3b-4693-e00a-a1b6295222e9"
      },
      "execution_count": 84,
      "outputs": [
        {
          "output_type": "stream",
          "name": "stdout",
          "text": [
            "cold in europe\n"
          ]
        }
      ]
    },
    {
      "cell_type": "code",
      "source": [
        "# Here a order is followed called method resolution order\n",
        "destination.mro()"
      ],
      "metadata": {
        "colab": {
          "base_uri": "https://localhost:8080/"
        },
        "id": "ZKSqW_wp1SPm",
        "outputId": "3e70a0ae-ca98-4def-cd59-4cee800eeab2"
      },
      "execution_count": 85,
      "outputs": [
        {
          "output_type": "execute_result",
          "data": {
            "text/plain": [
              "[__main__.destination,\n",
              " __main__.Europe,\n",
              " __main__.UAE,\n",
              " __main__.India,\n",
              " __main__.Travel,\n",
              " object]"
            ]
          },
          "metadata": {},
          "execution_count": 85
        }
      ]
    },
    {
      "cell_type": "markdown",
      "source": [
        "# Encapsulation\n",
        "\n",
        "- 3 types of access modifiers: public, private, protected\n",
        "- public: can be accesible from any part of program eg self.name\n",
        "- protected: can be protected the attribute for modification - eg _name, _subject\n",
        "- private: most secure modifier eg: __name"
      ],
      "metadata": {
        "id": "P6gu26ql2CM0"
      }
    },
    {
      "cell_type": "markdown",
      "source": [
        "# Python Modules\n",
        "- buult in modules like math, os, argparse"
      ],
      "metadata": {
        "id": "xVKYM27HEl86"
      }
    },
    {
      "cell_type": "code",
      "source": [
        "import math"
      ],
      "metadata": {
        "id": "1iGjzwtm_beE"
      },
      "execution_count": null,
      "outputs": []
    },
    {
      "cell_type": "code",
      "source": [
        "math.exp(2)"
      ],
      "metadata": {
        "id": "3SZiatj2Sx7I",
        "outputId": "0af041b4-d1a1-4e79-ef02-b2e6820baf8d",
        "colab": {
          "base_uri": "https://localhost:8080/"
        }
      },
      "execution_count": null,
      "outputs": [
        {
          "output_type": "execute_result",
          "data": {
            "text/plain": [
              "7.38905609893065"
            ]
          },
          "metadata": {},
          "execution_count": 30
        }
      ]
    },
    {
      "cell_type": "code",
      "source": [
        "from math import exp"
      ],
      "metadata": {
        "id": "F4JY8Kh1TWaS"
      },
      "execution_count": null,
      "outputs": []
    },
    {
      "cell_type": "code",
      "source": [
        "exp(4)"
      ],
      "metadata": {
        "id": "Phz-fcUUT0_R",
        "outputId": "5d656d43-5143-4428-b4ce-94caba7766f9",
        "colab": {
          "base_uri": "https://localhost:8080/"
        }
      },
      "execution_count": null,
      "outputs": [
        {
          "output_type": "execute_result",
          "data": {
            "text/plain": [
              "54.598150033144236"
            ]
          },
          "metadata": {},
          "execution_count": 32
        }
      ]
    },
    {
      "cell_type": "code",
      "source": [
        "import os"
      ],
      "metadata": {
        "id": "ljTPrehWT2Ke"
      },
      "execution_count": null,
      "outputs": []
    },
    {
      "cell_type": "code",
      "source": [
        "os.getcwd()"
      ],
      "metadata": {
        "id": "V3v0VjNmUYzm",
        "outputId": "1c5aa4c9-e8a1-4234-ccb6-57c5d5f62a25",
        "colab": {
          "base_uri": "https://localhost:8080/",
          "height": 38
        }
      },
      "execution_count": null,
      "outputs": [
        {
          "output_type": "execute_result",
          "data": {
            "text/plain": [
              "'/content'"
            ],
            "application/vnd.google.colaboratory.intrinsic+json": {
              "type": "string"
            }
          },
          "metadata": {},
          "execution_count": 35
        }
      ]
    },
    {
      "cell_type": "code",
      "source": [
        "os.mkdir(\"demo\")"
      ],
      "metadata": {
        "id": "T9EhwHqTUb-Z"
      },
      "execution_count": null,
      "outputs": []
    },
    {
      "cell_type": "code",
      "source": [
        "os.rmdir(\"sample_data\")"
      ],
      "metadata": {
        "id": "qHmf6ZA5Uh9D",
        "outputId": "abeceef9-b38a-48e8-f763-33c7f0b9fe85",
        "colab": {
          "base_uri": "https://localhost:8080/",
          "height": 203
        }
      },
      "execution_count": null,
      "outputs": [
        {
          "output_type": "error",
          "ename": "OSError",
          "evalue": "[Errno 39] Directory not empty: 'sample_data'",
          "traceback": [
            "\u001b[0;31m---------------------------------------------------------------------------\u001b[0m",
            "\u001b[0;31mOSError\u001b[0m                                   Traceback (most recent call last)",
            "\u001b[0;32m/tmp/ipython-input-4114481996.py\u001b[0m in \u001b[0;36m<cell line: 0>\u001b[0;34m()\u001b[0m\n\u001b[0;32m----> 1\u001b[0;31m \u001b[0mos\u001b[0m\u001b[0;34m.\u001b[0m\u001b[0mrmdir\u001b[0m\u001b[0;34m(\u001b[0m\u001b[0;34m\"sample_data\"\u001b[0m\u001b[0;34m)\u001b[0m\u001b[0;34m\u001b[0m\u001b[0;34m\u001b[0m\u001b[0m\n\u001b[0m",
            "\u001b[0;31mOSError\u001b[0m: [Errno 39] Directory not empty: 'sample_data'"
          ]
        }
      ]
    },
    {
      "cell_type": "code",
      "source": [
        "os.mkdir(\"demo-2\")\n"
      ],
      "metadata": {
        "id": "06LQQw7QUrjy"
      },
      "execution_count": null,
      "outputs": []
    },
    {
      "cell_type": "code",
      "source": [
        "os.listdir(\"demo-2\")"
      ],
      "metadata": {
        "id": "6IeYaRb8U4ea",
        "outputId": "c73a33c5-f591-4623-8660-ffe91b8a615e",
        "colab": {
          "base_uri": "https://localhost:8080/"
        }
      },
      "execution_count": null,
      "outputs": [
        {
          "output_type": "execute_result",
          "data": {
            "text/plain": [
              "['.ipynb_checkpoints', 'example.py']"
            ]
          },
          "metadata": {},
          "execution_count": 39
        }
      ]
    },
    {
      "cell_type": "code",
      "source": [
        "# Create a file\n",
        "# we make use of a function called open\n",
        "\n",
        "with open(\"demo/test.txt\", \"w\") as f:\n",
        "  f.write(\"hello\")"
      ],
      "metadata": {
        "id": "-EEHT0TfVAAy"
      },
      "execution_count": null,
      "outputs": []
    },
    {
      "cell_type": "code",
      "source": [
        "with open(\"demo/test.txt\", \"r\") as f:\n",
        "  out = f.read()"
      ],
      "metadata": {
        "id": "59E5QLJfVgsV"
      },
      "execution_count": null,
      "outputs": []
    },
    {
      "cell_type": "code",
      "source": [
        "out"
      ],
      "metadata": {
        "id": "XH27alYXYTr4",
        "outputId": "d508eeb4-4e2d-439c-e425-ca8b167134ee",
        "colab": {
          "base_uri": "https://localhost:8080/",
          "height": 38
        }
      },
      "execution_count": null,
      "outputs": [
        {
          "output_type": "execute_result",
          "data": {
            "text/plain": [
              "'hello'"
            ],
            "application/vnd.google.colaboratory.intrinsic+json": {
              "type": "string"
            }
          },
          "metadata": {},
          "execution_count": 46
        }
      ]
    },
    {
      "cell_type": "code",
      "source": [
        "# os module\n",
        "\n",
        "import os"
      ],
      "metadata": {
        "id": "uv-v2qdSYdD4"
      },
      "execution_count": 86,
      "outputs": []
    },
    {
      "cell_type": "code",
      "source": [
        "os.getcwd()"
      ],
      "metadata": {
        "colab": {
          "base_uri": "https://localhost:8080/",
          "height": 35
        },
        "id": "DNzmrN8W6PNy",
        "outputId": "5bb48b08-7ea2-4f29-b161-71f0835db357"
      },
      "execution_count": 87,
      "outputs": [
        {
          "output_type": "execute_result",
          "data": {
            "text/plain": [
              "'/content'"
            ],
            "application/vnd.google.colaboratory.intrinsic+json": {
              "type": "string"
            }
          },
          "metadata": {},
          "execution_count": 87
        }
      ]
    },
    {
      "cell_type": "code",
      "source": [
        "os.chdir(\"demo\")"
      ],
      "metadata": {
        "colab": {
          "base_uri": "https://localhost:8080/",
          "height": 141
        },
        "id": "6ntDKb6P6Ri5",
        "outputId": "58c84b4a-d091-4cdc-85a0-853545c8f1d7"
      },
      "execution_count": 88,
      "outputs": [
        {
          "output_type": "error",
          "ename": "FileNotFoundError",
          "evalue": "[Errno 2] No such file or directory: 'demo'",
          "traceback": [
            "\u001b[0;31m---------------------------------------------------------------------------\u001b[0m",
            "\u001b[0;31mFileNotFoundError\u001b[0m                         Traceback (most recent call last)",
            "\u001b[0;32m/tmp/ipython-input-316856259.py\u001b[0m in \u001b[0;36m<cell line: 0>\u001b[0;34m()\u001b[0m\n\u001b[0;32m----> 1\u001b[0;31m \u001b[0mos\u001b[0m\u001b[0;34m.\u001b[0m\u001b[0mchdir\u001b[0m\u001b[0;34m(\u001b[0m\u001b[0;34m\"demo\"\u001b[0m\u001b[0;34m)\u001b[0m\u001b[0;34m\u001b[0m\u001b[0;34m\u001b[0m\u001b[0m\n\u001b[0m",
            "\u001b[0;31mFileNotFoundError\u001b[0m: [Errno 2] No such file or directory: 'demo'"
          ]
        }
      ]
    },
    {
      "cell_type": "code",
      "source": [
        "# create environment variable\n",
        "os.environ[\"VERBOSE\"] = \"2\""
      ],
      "metadata": {
        "id": "RyUWQ6b_6UTS"
      },
      "execution_count": 89,
      "outputs": []
    },
    {
      "cell_type": "code",
      "source": [
        "os.environ.get(\"VERBOSE\")"
      ],
      "metadata": {
        "colab": {
          "base_uri": "https://localhost:8080/",
          "height": 35
        },
        "id": "q9pugkGv7Z2E",
        "outputId": "62707d8a-84f4-4b4d-a6f7-796ce8e6cb0b"
      },
      "execution_count": 90,
      "outputs": [
        {
          "output_type": "execute_result",
          "data": {
            "text/plain": [
              "'2'"
            ],
            "application/vnd.google.colaboratory.intrinsic+json": {
              "type": "string"
            }
          },
          "metadata": {},
          "execution_count": 90
        }
      ]
    },
    {
      "cell_type": "code",
      "source": [
        "# subprocess module - scenario to run application outside of python, help tpo spawn process and run commmand\n",
        "\n",
        "import subprocess"
      ],
      "metadata": {
        "id": "i3-cakyY7eaL"
      },
      "execution_count": 91,
      "outputs": []
    },
    {
      "cell_type": "code",
      "source": [
        "cp = subprocess.run(['ls', '-l'], capture_output=True, universal_newlines=True)"
      ],
      "metadata": {
        "id": "SmidMdXCEz4B"
      },
      "execution_count": 93,
      "outputs": []
    },
    {
      "cell_type": "code",
      "source": [
        "cp.stdout"
      ],
      "metadata": {
        "colab": {
          "base_uri": "https://localhost:8080/",
          "height": 35
        },
        "id": "ZDW-pIJsE-Mn",
        "outputId": "3c7e7a6c-a19c-404b-c3bb-8a09fc215715"
      },
      "execution_count": 94,
      "outputs": [
        {
          "output_type": "execute_result",
          "data": {
            "text/plain": [
              "'total 4\\ndrwxr-xr-x 1 root root 4096 Sep 16 13:40 sample_data\\n'"
            ],
            "application/vnd.google.colaboratory.intrinsic+json": {
              "type": "string"
            }
          },
          "metadata": {},
          "execution_count": 94
        }
      ]
    },
    {
      "cell_type": "code",
      "source": [
        "cp = subprocess.run(['ls', 'demo'], capture_output=True, universal_newlines=True)"
      ],
      "metadata": {
        "id": "IwIWaVyzFQ1t"
      },
      "execution_count": 95,
      "outputs": []
    },
    {
      "cell_type": "code",
      "source": [
        "cp.stdout"
      ],
      "metadata": {
        "colab": {
          "base_uri": "https://localhost:8080/",
          "height": 35
        },
        "id": "7CBEHb9HFpay",
        "outputId": "1508f368-0afa-40b0-de7f-f2af7913fe56"
      },
      "execution_count": 96,
      "outputs": [
        {
          "output_type": "execute_result",
          "data": {
            "text/plain": [
              "''"
            ],
            "application/vnd.google.colaboratory.intrinsic+json": {
              "type": "string"
            }
          },
          "metadata": {},
          "execution_count": 96
        }
      ]
    },
    {
      "cell_type": "code",
      "source": [
        "cp.stderr"
      ],
      "metadata": {
        "colab": {
          "base_uri": "https://localhost:8080/",
          "height": 35
        },
        "id": "L7oMaW5sFr-c",
        "outputId": "1106fa8f-4adf-4250-e8cc-9384bd4831b2"
      },
      "execution_count": 97,
      "outputs": [
        {
          "output_type": "execute_result",
          "data": {
            "text/plain": [
              "\"ls: cannot access 'demo': No such file or directory\\n\""
            ],
            "application/vnd.google.colaboratory.intrinsic+json": {
              "type": "string"
            }
          },
          "metadata": {},
          "execution_count": 97
        }
      ]
    },
    {
      "cell_type": "code",
      "source": [
        "# better way to handle error\n",
        "cp = subprocess.run(['ls', 'demo'], capture_output=True, universal_newlines=True, check=True)"
      ],
      "metadata": {
        "colab": {
          "base_uri": "https://localhost:8080/",
          "height": 280
        },
        "id": "K2KSguWhFtd0",
        "outputId": "374d6315-59a9-43f7-eacc-05be4544f497"
      },
      "execution_count": 98,
      "outputs": [
        {
          "output_type": "error",
          "ename": "CalledProcessError",
          "evalue": "Command '['ls', 'demo']' returned non-zero exit status 2.",
          "traceback": [
            "\u001b[0;31m---------------------------------------------------------------------------\u001b[0m",
            "\u001b[0;31mCalledProcessError\u001b[0m                        Traceback (most recent call last)",
            "\u001b[0;32m/tmp/ipython-input-585708240.py\u001b[0m in \u001b[0;36m<cell line: 0>\u001b[0;34m()\u001b[0m\n\u001b[1;32m      1\u001b[0m \u001b[0;31m# better way to handle error\u001b[0m\u001b[0;34m\u001b[0m\u001b[0;34m\u001b[0m\u001b[0m\n\u001b[0;32m----> 2\u001b[0;31m \u001b[0mcp\u001b[0m \u001b[0;34m=\u001b[0m \u001b[0msubprocess\u001b[0m\u001b[0;34m.\u001b[0m\u001b[0mrun\u001b[0m\u001b[0;34m(\u001b[0m\u001b[0;34m[\u001b[0m\u001b[0;34m'ls'\u001b[0m\u001b[0;34m,\u001b[0m \u001b[0;34m'demo'\u001b[0m\u001b[0;34m]\u001b[0m\u001b[0;34m,\u001b[0m \u001b[0mcapture_output\u001b[0m\u001b[0;34m=\u001b[0m\u001b[0;32mTrue\u001b[0m\u001b[0;34m,\u001b[0m \u001b[0muniversal_newlines\u001b[0m\u001b[0;34m=\u001b[0m\u001b[0;32mTrue\u001b[0m\u001b[0;34m,\u001b[0m \u001b[0mcheck\u001b[0m\u001b[0;34m=\u001b[0m\u001b[0;32mTrue\u001b[0m\u001b[0;34m)\u001b[0m\u001b[0;34m\u001b[0m\u001b[0;34m\u001b[0m\u001b[0m\n\u001b[0m",
            "\u001b[0;32m/usr/lib/python3.12/subprocess.py\u001b[0m in \u001b[0;36mrun\u001b[0;34m(input, capture_output, timeout, check, *popenargs, **kwargs)\u001b[0m\n\u001b[1;32m    569\u001b[0m         \u001b[0mretcode\u001b[0m \u001b[0;34m=\u001b[0m \u001b[0mprocess\u001b[0m\u001b[0;34m.\u001b[0m\u001b[0mpoll\u001b[0m\u001b[0;34m(\u001b[0m\u001b[0;34m)\u001b[0m\u001b[0;34m\u001b[0m\u001b[0;34m\u001b[0m\u001b[0m\n\u001b[1;32m    570\u001b[0m         \u001b[0;32mif\u001b[0m \u001b[0mcheck\u001b[0m \u001b[0;32mand\u001b[0m \u001b[0mretcode\u001b[0m\u001b[0;34m:\u001b[0m\u001b[0;34m\u001b[0m\u001b[0;34m\u001b[0m\u001b[0m\n\u001b[0;32m--> 571\u001b[0;31m             raise CalledProcessError(retcode, process.args,\n\u001b[0m\u001b[1;32m    572\u001b[0m                                      output=stdout, stderr=stderr)\n\u001b[1;32m    573\u001b[0m     \u001b[0;32mreturn\u001b[0m \u001b[0mCompletedProcess\u001b[0m\u001b[0;34m(\u001b[0m\u001b[0mprocess\u001b[0m\u001b[0;34m.\u001b[0m\u001b[0margs\u001b[0m\u001b[0;34m,\u001b[0m \u001b[0mretcode\u001b[0m\u001b[0;34m,\u001b[0m \u001b[0mstdout\u001b[0m\u001b[0;34m,\u001b[0m \u001b[0mstderr\u001b[0m\u001b[0;34m)\u001b[0m\u001b[0;34m\u001b[0m\u001b[0;34m\u001b[0m\u001b[0m\n",
            "\u001b[0;31mCalledProcessError\u001b[0m: Command '['ls', 'demo']' returned non-zero exit status 2."
          ]
        }
      ]
    },
    {
      "cell_type": "code",
      "source": [
        "# sys.argv can pass arguments while runtime in command line\n",
        "\n",
        "# the first argument is script name and rest are the arguments\n",
        "\n",
        "os.listdir()"
      ],
      "metadata": {
        "colab": {
          "base_uri": "https://localhost:8080/"
        },
        "id": "h_Z376WfF0si",
        "outputId": "129ef1c9-156b-4f4c-b5f7-f4b2b60559c6"
      },
      "execution_count": 99,
      "outputs": [
        {
          "output_type": "execute_result",
          "data": {
            "text/plain": [
              "['.config', 'sample_data']"
            ]
          },
          "metadata": {},
          "execution_count": 99
        }
      ]
    },
    {
      "cell_type": "code",
      "source": [
        "os.getcwd()"
      ],
      "metadata": {
        "id": "PfLkMwauTBsm",
        "outputId": "a56b491d-e875-4876-bcfc-e358365b0d48",
        "colab": {
          "base_uri": "https://localhost:8080/",
          "height": 35
        }
      },
      "execution_count": 100,
      "outputs": [
        {
          "output_type": "execute_result",
          "data": {
            "text/plain": [
              "'/content'"
            ],
            "application/vnd.google.colaboratory.intrinsic+json": {
              "type": "string"
            }
          },
          "metadata": {},
          "execution_count": 100
        }
      ]
    },
    {
      "cell_type": "code",
      "source": [],
      "metadata": {
        "id": "Bzrl2sfbTD-R"
      },
      "execution_count": null,
      "outputs": []
    }
  ]
}